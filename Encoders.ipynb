{
 "cells": [
  {
   "cell_type": "markdown",
   "metadata": {
    "collapsed": false
   },
   "source": [
    "[<img align=\"right\" src=\"img/encoders.png\" />](http://mechatronics.mech.northwestern.edu/design_ref/sensors/encoders.html)\n",
    "# Encoders\n",
    "For computing the distance traveled by a mobile robot, we are going to use sensors that mesure the motion of the wheels, i.e. the angle turned by each wheel.\n",
    "\n",
    "Optical encoders are vey popular in mobile robotics for measuring the position within a motor drive of at the shaft of a wheel. They consist of a source of light, a pattern disc, and a light detector. As the disc turns, light pulses are converted to a binary signal, which is counted and as a result an angle is produced.\n",
    "\n",
    "First, as usual, let's initialize the robot."
   ]
  },
  {
   "cell_type": "code",
   "execution_count": null,
   "metadata": {
    "collapsed": false
   },
   "outputs": [],
   "source": [
    "import packages.initialization\n",
    "import pioneer3dx as p3dx\n",
    "p3dx.init()"
   ]
  },
  {
   "cell_type": "markdown",
   "metadata": {},
   "source": [
    "Now, the GUI widget controls the speed of each wheel independently, and displays the value (in radians) of the angle turned by each wheel."
   ]
  },
  {
   "cell_type": "code",
   "execution_count": null,
   "metadata": {
    "collapsed": false
   },
   "outputs": [],
   "source": [
    "import encoder_widget"
   ]
  },
  {
   "cell_type": "markdown",
   "metadata": {},
   "source": [
    "For the propor use of encoders, it's time for a bit of geometry in the next notebook: [Angles and Distances](Angles%20and%20Distances.ipynb)"
   ]
  },
  {
   "cell_type": "markdown",
   "metadata": {
    "collapsed": true
   },
   "source": [
    "---\n",
    "\n",
    "### Try-a-Bot: an open source guide for robot programming\n",
    "\n",
    "Developed by:\n",
    "[![Robotic Intelligence Lab @ UJI](img/logo/robinlab.png \"Robotic Intelligence Lab @ UJI\")](http://robinlab.uji.es)\n",
    "\n",
    "Sponsored by:\n",
    "<table>\n",
    "<tr>\n",
    "<td style=\"border:1px solid #ffffff ;\">[![IEEE Robotics and Automation Society](img/logo/ras.png \"IEEE Robotics and Automation Society\")](http://www.ieee-ras.org)</td>\n",
    "<td style=\"border:1px solid #ffffff ;\">[![Cyberbotics](img/logo/cyberbotics.png \"Cyberbotics\")](http://www.cyberbotics.com)</td>\n",
    "<td style=\"border:1px solid #ffffff ;\">[![The Construct](img/logo/theconstruct.png \"The Construct\")](http://www.theconstructsim.com)</td>\n",
    "</tr>\n",
    "</table>\n",
    "\n",
    "Follow us:\n",
    "<table>\n",
    "<tr>\n",
    "<td style=\"border:1px solid #ffffff ;\">[![Facebook](img/logo/facebook.png \"Facebook\")](https://www.facebook.com/RobotProgrammingNetwork)</td>\n",
    "<td style=\"border:1px solid #ffffff ;\">[![YouTube](img/logo/youtube.png \"YouTube\")](https://www.youtube.com/user/robotprogrammingnet)</td>\n",
    "</tr>\n",
    "</table>"
   ]
  }
 ],
 "metadata": {
  "kernelspec": {
   "display_name": "Python 2",
   "language": "python",
   "name": "python2"
  },
  "language_info": {
   "codemirror_mode": {
    "name": "ipython",
    "version": 2
   },
   "file_extension": ".py",
   "mimetype": "text/x-python",
   "name": "python",
   "nbconvert_exporter": "python",
   "pygments_lexer": "ipython2",
   "version": "2.7.11"
  }
 },
 "nbformat": 4,
 "nbformat_minor": 0
}
