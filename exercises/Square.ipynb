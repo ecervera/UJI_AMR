{
 "cells": [
  {
   "cell_type": "markdown",
   "metadata": {},
   "source": [
    "<img align=\"right\" src=\"../img/square_240.png\" />\n",
    "## Exercise: Square Test.\n",
    "\n",
    "You are going to make a program for describing a square trajectory with the robot.\n",
    "\n",
    "Instead of starting to code from scratch, you are going to reuse the code that you developed for the distance and turning exercises.\n"
   ]
  },
  {
   "cell_type": "markdown",
   "metadata": {},
   "source": [
    "### 1. Starting position\n",
    "For a better visual understanding of the task, it is recommended that the robot starts at the center of the room. \n",
    "\n",
    "You can easily relocate the robot there by simply restarting the simulation.\n",
    "\n",
    "### 2. Initialization\n",
    "After restarting the simulation, the robot needs to be initialized."
   ]
  },
  {
   "cell_type": "code",
   "execution_count": null,
   "metadata": {
    "collapsed": false
   },
   "outputs": [],
   "source": [
    "import packages.initialization\n",
    "import pioneer3dx as p3dx\n",
    "p3dx.init()"
   ]
  },
  {
   "cell_type": "markdown",
   "metadata": {},
   "source": [
    "### 3. Program\n",
    "\n",
    "The code is structured in three parts:\n",
    "1. The first part is a function for moving forward: you must copy and paste the code inside the body of the function template, in the following cell.\n",
    "2. The second part is a similar function for turning.\n",
    "3. Finally, the third part is the main code, consisting of a loop that calls the previous functions four times. The code also displays the pose of the robot (position and orientation) before and after the motion."
   ]
  },
  {
   "cell_type": "code",
   "execution_count": null,
   "metadata": {
    "collapsed": true
   },
   "outputs": [],
   "source": [
    "def forward():\n",
    "    # copy and paste your code here\n",
    "    ..."
   ]
  },
  {
   "cell_type": "code",
   "execution_count": null,
   "metadata": {
    "collapsed": true
   },
   "outputs": [],
   "source": [
    "def turn():\n",
    "    # copy and paste your code here\n",
    "    ..."
   ]
  },
  {
   "cell_type": "code",
   "execution_count": null,
   "metadata": {
    "collapsed": false
   },
   "outputs": [],
   "source": [
    "print('Pose of the robot at the start')\n",
    "p3dx.pose()\n",
    "for _ in range(4):\n",
    "    forward()\n",
    "    turn()\n",
    "print('Pose of the robot at the end')\n",
    "p3dx.pose()"
   ]
  },
  {
   "cell_type": "markdown",
   "metadata": {},
   "source": [
    "The trajectory can also be displayed:"
   ]
  },
  {
   "cell_type": "code",
   "execution_count": null,
   "metadata": {
    "collapsed": true
   },
   "outputs": [],
   "source": [
    "%matplotlib inline\n",
    "import matplotlib.pyplot as plt\n",
    "x, y = p3dx.trajectory()\n",
    "plt.plot(x,y)"
   ]
  },
  {
   "cell_type": "markdown",
   "metadata": {},
   "source": [
    "#### [Solution](../solutions/Square.ipynb)"
   ]
  },
  {
   "cell_type": "markdown",
   "metadata": {
    "collapsed": true
   },
   "source": [
    "---\n",
    "\n",
    "### Try-a-Bot: an open source guide for robot programming\n",
    "\n",
    "Developed by:\n",
    "[![Robotic Intelligence Lab @ UJI](../img/logo/robinlab.png \"Robotic Intelligence Lab @ UJI\")](http://robinlab.uji.es)\n",
    "\n",
    "Sponsored by:\n",
    "<table>\n",
    "<tr>\n",
    "<td style=\"border:1px solid #ffffff ;\">[![IEEE Robotics and Automation Society](../img/logo/ras.png \"IEEE Robotics and Automation Society\")](http://www.ieee-ras.org)</td>\n",
    "<td style=\"border:1px solid #ffffff ;\">[![Cyberbotics](../img/logo/cyberbotics.png \"Cyberbotics\")](http://www.cyberbotics.com)</td>\n",
    "<td style=\"border:1px solid #ffffff ;\">[![The Construct](../img/logo/theconstruct.png \"The Construct\")](http://www.theconstructsim.com)</td>\n",
    "</tr>\n",
    "</table>\n",
    "\n",
    "Follow us:\n",
    "<table>\n",
    "<tr>\n",
    "<td style=\"border:1px solid #ffffff ;\">[![Facebook](../img/logo/facebook.png \"Facebook\")](https://www.facebook.com/RobotProgrammingNetwork)</td>\n",
    "<td style=\"border:1px solid #ffffff ;\">[![YouTube](../img/logo/youtube.png \"YouTube\")](https://www.youtube.com/user/robotprogrammingnet)</td>\n",
    "</tr>\n",
    "</table>"
   ]
  }
 ],
 "metadata": {
  "kernelspec": {
   "display_name": "Python 2",
   "language": "python",
   "name": "python2"
  },
  "language_info": {
   "codemirror_mode": {
    "name": "ipython",
    "version": 2
   },
   "file_extension": ".py",
   "mimetype": "text/x-python",
   "name": "python",
   "nbconvert_exporter": "python",
   "pygments_lexer": "ipython2",
   "version": "2.7.11"
  }
 },
 "nbformat": 4,
 "nbformat_minor": 0
}
