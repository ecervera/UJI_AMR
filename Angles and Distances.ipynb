{
 "cells": [
  {
   "cell_type": "markdown",
   "metadata": {},
   "source": [
    "<img align=\"right\" src=\"img/robot_geometry.png\" />\n",
    "# Angles and Distances\n",
    "In a differential-drive mobile robot, there are two geometrical parameters that determine the motion of the robot:\n",
    "* the radius of the wheels\n",
    "* the length of the wheel axis, i.e. the distance between the centers of the wheels\n",
    "\n",
    "With some simple operations, we can calculate the motion of the robots for two particular cases: moving straight and turning in place."
   ]
  },
  {
   "cell_type": "markdown",
   "metadata": {},
   "source": [
    "### Distance traveled in a straight motion\n",
    "\n",
    "When the robot moves forward, both wheels are turning at the same speed. For a complete turn of the wheels, the traveled distance is equal to the length of the circumference:\n",
    "\n",
    "$$ D = 2 \\pi r $$\n",
    "\n",
    "In the general case, if the wheels turn an angle $\\theta$, the traveled distance is:\n",
    "\n",
    "$$ D = \\theta r $$"
   ]
  },
  {
   "cell_type": "markdown",
   "metadata": {},
   "source": [
    "### Angle turned in an in-place rotation\n",
    "When the robot spins around its own axis, both wheels are turning at the same speed, but in opposite directions.\n",
    "\n",
    "In this case, the distance traveled by the wheel must be equal to the length of the arc turned by the robot around its axis, whose radius is $L/2$:\n",
    "\n",
    "$$ \\theta r = \\psi \\frac{L}{2} $$\n",
    "\n",
    "The turned angle can thus be determined as:\n",
    "\n",
    "$$  \\psi = \\frac{2 \\theta r}{L} $$\n"
   ]
  },
  {
   "cell_type": "markdown",
   "metadata": {},
   "source": [
    "### Exercises\n",
    "1. [Move the robot forward for a given distance](exercises/Distance.ipynb)\n",
    "2. [Turn the robot right for a given angle](exercises/Angle.ipynb)\n",
    "3. [Square Test](exercises/Square.ipynb)"
   ]
  },
  {
   "cell_type": "markdown",
   "metadata": {
    "collapsed": true
   },
   "source": [
    "---\n",
    "\n",
    "### Try-a-Bot: an open source guide for robot programming\n",
    "\n",
    "Developed by:\n",
    "[![Robotic Intelligence Lab @ UJI](img/logo/robinlab.png \"Robotic Intelligence Lab @ UJI\")](http://robinlab.uji.es)\n",
    "\n",
    "Sponsored by:\n",
    "<table>\n",
    "<tr>\n",
    "<td style=\"border:1px solid #ffffff ;\">[![IEEE Robotics and Automation Society](img/logo/ras.png \"IEEE Robotics and Automation Society\")](http://www.ieee-ras.org)</td>\n",
    "<td style=\"border:1px solid #ffffff ;\">[![Cyberbotics](img/logo/cyberbotics.png \"Cyberbotics\")](http://www.cyberbotics.com)</td>\n",
    "<td style=\"border:1px solid #ffffff ;\">[![The Construct](img/logo/theconstruct.png \"The Construct\")](http://www.theconstructsim.com)</td>\n",
    "</tr>\n",
    "</table>\n",
    "\n",
    "Follow us:\n",
    "<table>\n",
    "<tr>\n",
    "<td style=\"border:1px solid #ffffff ;\">[![Facebook](img/logo/facebook.png \"Facebook\")](https://www.facebook.com/RobotProgrammingNetwork)</td>\n",
    "<td style=\"border:1px solid #ffffff ;\">[![YouTube](img/logo/youtube.png \"YouTube\")](https://www.youtube.com/user/robotprogrammingnet)</td>\n",
    "</tr>\n",
    "</table>"
   ]
  }
 ],
 "metadata": {
  "kernelspec": {
   "display_name": "Python 2",
   "language": "python",
   "name": "python2"
  },
  "language_info": {
   "codemirror_mode": {
    "name": "ipython",
    "version": 2
   },
   "file_extension": ".py",
   "mimetype": "text/x-python",
   "name": "python",
   "nbconvert_exporter": "python",
   "pygments_lexer": "ipython2",
   "version": "2.7.11"
  }
 },
 "nbformat": 4,
 "nbformat_minor": 0
}
