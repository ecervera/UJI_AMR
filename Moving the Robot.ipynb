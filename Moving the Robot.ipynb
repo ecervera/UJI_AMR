{
 "cells": [
  {
   "cell_type": "markdown",
   "metadata": {},
   "source": [
    "# Moving the Robot\n",
    "The Pioneer 3-DX robot is an all-purpose base, used for research and applications involving mapping, teleoperation, localization, monitoring and other behaviors.\n",
    "\n",
    "It is a so-called [**_differential-drive_** mobile platform](https://en.wikipedia.org/wiki/Differential_wheeled_robot), with a powered wheel on either side of the robot body, and a rear castor wheel for balance.\n",
    "\n",
    "Each wheel is powered by its own motor. The motion of the robot is determined by the speed on the wheels:\n",
    "* If both wheels are driven at the same direction and speed, the robot will move in a straight line. \n",
    "* If one speed is higher than the other one, the robot will turn towards the direction of the lower speed. \n",
    "* If both wheels are turned with equal speed in opposite directions, the robot will spin around the central point of its axis.\n",
    "[![differential_drive](img/motions.png \"Differential drive\")](http://www.guiott.com/CleaningRobot/C-Motion/Motion.htm)\n",
    "\n",
    "Let's see a Pioneer robot moving!"
   ]
  },
  {
   "cell_type": "code",
   "execution_count": null,
   "metadata": {
    "collapsed": false
   },
   "outputs": [],
   "source": [
    "# this is code cell -> click on it, then press Shift+Enter\n",
    "from IPython.display import YouTubeVideo\n",
    "YouTubeVideo('vasBnRS3tQk')"
   ]
  },
  {
   "cell_type": "markdown",
   "metadata": {},
   "source": [
    "### Initialization\n",
    "Throughout the course, some code is already written for you, and organized in modules called *packages*. The cell below is an initialization step that must be called at the beginning of the notebook."
   ]
  },
  {
   "cell_type": "code",
   "execution_count": null,
   "metadata": {
    "collapsed": false
   },
   "outputs": [],
   "source": [
    "import packages.initialization\n",
    "import pioneer3dx as p3dx\n",
    "p3dx.init()"
   ]
  },
  {
   "cell_type": "markdown",
   "metadata": {
    "collapsed": false
   },
   "source": [
    "### Motion\n",
    "Let's move the robot on the simulator!\n",
    "\n",
    "You are going to use a *widget*, a Graphical User Interface (GUI) with two sliders for moving the robot in two ways: translation and rotation."
   ]
  },
  {
   "cell_type": "code",
   "execution_count": null,
   "metadata": {
    "collapsed": false,
    "scrolled": true
   },
   "outputs": [],
   "source": [
    "import motion_widget"
   ]
  },
  {
   "cell_type": "markdown",
   "metadata": {},
   "source": [
    "The cell above outputs two sliders, which control the translation and rotation of the robot. Initially both values are zero; move the slider left or right to change their values and move the robot.\n",
    "\n",
    "Once you are familiar with the motion of the robot, please proceed to the next notebook: [Motion Functions](Motion%20Functions.ipynb)."
   ]
  },
  {
   "cell_type": "markdown",
   "metadata": {
    "collapsed": true
   },
   "source": [
    "---\n",
    "#### Try-a-Bot: an open source guide for robot programming\n",
    "Developed by:\n",
    "[![Robotic Intelligence Lab @ UJI](img/logo/robinlab.png \"Robotic Intelligence Lab @ UJI\")](http://robinlab.uji.es)\n",
    "\n",
    "Sponsored by:\n",
    "<table>\n",
    "<tr>\n",
    "<td style=\"border:1px solid #ffffff ;\">[![IEEE Robotics and Automation Society](img/logo/ras.png \"IEEE Robotics and Automation Society\")](http://www.ieee-ras.org)</td>\n",
    "<td style=\"border:1px solid #ffffff ;\">[![Cyberbotics](img/logo/cyberbotics.png \"Cyberbotics\")](http://www.cyberbotics.com)</td>\n",
    "<td style=\"border:1px solid #ffffff ;\">[![The Construct](img/logo/theconstruct.png \"The Construct\")](http://www.theconstructsim.com)</td>\n",
    "</tr>\n",
    "</table>\n",
    "\n",
    "Follow us:\n",
    "<table>\n",
    "<tr>\n",
    "<td style=\"border:1px solid #ffffff ;\">[![Facebook](img/logo/facebook.png \"Facebook\")](https://www.facebook.com/RobotProgrammingNetwork)</td>\n",
    "<td style=\"border:1px solid #ffffff ;\">[![YouTube](img/logo/youtube.png \"YouTube\")](https://www.youtube.com/user/robotprogrammingnet)</td>\n",
    "</tr>\n",
    "</table>"
   ]
  }
 ],
 "metadata": {
  "kernelspec": {
   "display_name": "Python 2",
   "language": "python",
   "name": "python2"
  },
  "language_info": {
   "codemirror_mode": {
    "name": "ipython",
    "version": 2
   },
   "file_extension": ".py",
   "mimetype": "text/x-python",
   "name": "python",
   "nbconvert_exporter": "python",
   "pygments_lexer": "ipython2",
   "version": "2.7.11"
  }
 },
 "nbformat": 4,
 "nbformat_minor": 0
}
