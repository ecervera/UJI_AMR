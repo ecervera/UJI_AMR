{
 "cells": [
  {
   "cell_type": "markdown",
   "metadata": {},
   "source": [
    "## Welcome to the UJI Autonomous Mobile Robots Online Course\n",
    "\n",
    "In this course you are going to explore and learn with a simulator of the [Pioneer P3-DX mobile robot](http://www.mobilerobots.com/ResearchRobots/PioneerP3DX.aspx).\n",
    "\n",
    "![pioneer3dx](img/p3dx.png \"Pioneer P3-DX\")\n",
    "\n",
    "During the first week, you will learn how a mobile robot moves, and how to program basic functions for sending commands to the motors, and calculating the distance travelled by the robot.\n",
    "## Week 1\n",
    "* [Hello World!](Hello%20World.ipynb)\n",
    "* [Moving the Robot](Moving%20the%20Robot.ipynb)\n",
    "* [Motion Functions](Motion%20Functions.ipynb)\n",
    "* [Encoders](Encoders.ipynb)\n",
    "* [Angles and Distances](Angles%20and%20Distances.ipynb)\n",
    "* Exercises:\n",
    "  1. [Move the robot forward for a given distance](exercises/Distance.ipynb)\n",
    "  2. [Turn the robot right for a given angle](exercises/Angle.ipynb)\n",
    "  3. [Square Test](exercises/Square.ipynb)"
   ]
  },
  {
   "cell_type": "markdown",
   "metadata": {},
   "source": [
    "---\n",
    "#### Try-a-Bot: an open source guide for robot programming\n",
    "Developed by:\n",
    "[![Robotic Intelligence Lab @ UJI](img/logo/robinlab.png \"Robotic Intelligence Lab @ UJI\")](http://robinlab.uji.es)\n",
    "\n",
    "Sponsored by:\n",
    "<table>\n",
    "<tr>\n",
    "<td>[![IEEE Robotics and Automation Society](img/logo/ras.png \"IEEE Robotics and Automation Society\")](http://www.ieee-ras.org)</td>\n",
    "<td>[![Cyberbotics](img/logo/cyberbotics.png \"Cyberbotics\")](http://www.cyberbotics.com)</td>\n",
    "<td>[![The Construct](img/logo/theconstruct.png \"The Construct\")](http://www.theconstructsim.com)</td>\n",
    "</tr>\n",
    "</table>\n",
    "\n",
    "Follow us:\n",
    "<table>\n",
    "<tr>\n",
    "<td style=\"border:1px solid #ffffff ;\">[![Facebook](img/logo/facebook.png \"Facebook\")](https://www.facebook.com/RobotProgrammingNetwork)</td>\n",
    "<td style=\"border:1px solid #ffffff ;\">[![YouTube](img/logo/youtube.png \"YouTube\")](https://www.youtube.com/user/robotprogrammingnet)</td>\n",
    "</tr>\n",
    "</table>\n"
   ]
  }
 ],
 "metadata": {
  "kernelspec": {
   "display_name": "Python 2",
   "language": "python",
   "name": "python2"
  },
  "language_info": {
   "codemirror_mode": {
    "name": "ipython",
    "version": 2
   },
   "file_extension": ".py",
   "mimetype": "text/x-python",
   "name": "python",
   "nbconvert_exporter": "python",
   "pygments_lexer": "ipython2",
   "version": "2.7.11"
  }
 },
 "nbformat": 4,
 "nbformat_minor": 0
}
