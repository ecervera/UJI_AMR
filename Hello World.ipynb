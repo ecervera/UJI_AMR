{
 "cells": [
  {
   "cell_type": "markdown",
   "metadata": {},
   "source": [
    "[<img align=\"right\" src=\"img/logo/Python.png\" />](https://www.python.org)\n",
    "\n",
    "# Hello World!\n",
    "In this course, you are going to program a mobile robot, using a language called [Python](https://www.python.org). If you have never used it, but you are familiar with another language (C, Java), you will learn the basics very quickly.\n",
    "\n",
    "[<img align=\"right\" src=\"img/logo/jupyter.png\" />](http://jupyter.org/)\n",
    "The programs will run directly in the browser, in an environment called [Jupyter Notebook](http://jupyter.org/). How? Quite simple: the notebook consists of cells, which can be either text or code. The latter can be executed with **_Shift+Enter_**. Try it in the following cell:"
   ]
  },
  {
   "cell_type": "code",
   "execution_count": null,
   "metadata": {
    "collapsed": false
   },
   "outputs": [],
   "source": [
    "# this is a code cell\n",
    "# click on it, then press Shift+Enter\n",
    "print('Hello World!')"
   ]
  },
  {
   "cell_type": "markdown",
   "metadata": {},
   "source": [
    "If the \"Hello World!\" message has been displayed as the output of the cell, congratulations! everything is working fine :-)\n",
    "\n",
    "For the programs in this course, you need to know the basics of structured programming:\n",
    "\n",
    "* Variables\n",
    "* Data structures (arrays, lists)\n",
    "* Control flow (conditional statements, loops)\n",
    "* Functions\n",
    "\n",
    "For a quick introduction to these topics in Python, you may browse through [The Python Tutorial](https://docs.python.org/2.7/tutorial/).\n",
    "\n",
    "Let's proceed now to the next notebook: [Moving the Robot](Moving%20the%20Robot.ipynb)"
   ]
  },
  {
   "cell_type": "markdown",
   "metadata": {},
   "source": [
    "---\n",
    "#### Try-a-Bot: an open source guide for robot programming\n",
    "Developed by:\n",
    "[![Robotic Intelligence Lab @ UJI](img/logo/robinlab.png \"Robotic Intelligence Lab @ UJI\")](http://robinlab.uji.es)\n",
    "\n",
    "Sponsored by:\n",
    "<table>\n",
    "<tr>\n",
    "<td style=\"border:1px solid #ffffff ;\">[![IEEE Robotics and Automation Society](img/logo/ras.png \"IEEE Robotics and Automation Society\")](http://www.ieee-ras.org)</td>\n",
    "<td style=\"border:1px solid #ffffff ;\">[![Cyberbotics](img/logo/cyberbotics.png \"Cyberbotics\")](http://www.cyberbotics.com)</td>\n",
    "<td style=\"border:1px solid #ffffff ;\">[![The Construct](img/logo/theconstruct.png \"The Construct\")](http://www.theconstructsim.com)</td>\n",
    "</tr>\n",
    "</table>\n",
    "\n",
    "Follow us:\n",
    "<table>\n",
    "<tr>\n",
    "<td style=\"border:1px solid #ffffff ;\">[![Facebook](img/logo/facebook.png \"Facebook\")](https://www.facebook.com/RobotProgrammingNetwork)</td>\n",
    "<td style=\"border:1px solid #ffffff ;\">[![YouTube](img/logo/youtube.png \"YouTube\")](https://www.youtube.com/user/robotprogrammingnet)</td>\n",
    "</tr>\n",
    "</table>\n"
   ]
  }
 ],
 "metadata": {
  "kernelspec": {
   "display_name": "Python 2",
   "language": "python",
   "name": "python2"
  },
  "language_info": {
   "codemirror_mode": {
    "name": "ipython",
    "version": 2
   },
   "file_extension": ".py",
   "mimetype": "text/x-python",
   "name": "python",
   "nbconvert_exporter": "python",
   "pygments_lexer": "ipython2",
   "version": "2.7.11"
  }
 },
 "nbformat": 4,
 "nbformat_minor": 0
}
