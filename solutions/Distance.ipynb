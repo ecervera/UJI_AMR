{
 "cells": [
  {
   "cell_type": "markdown",
   "metadata": {},
   "source": [
    "<img align=\"right\" src=\"../img/exercise_distance_240.png\" />\n",
    "## Exercise: Move the robot forward for a distance.\n",
    "\n",
    "You are going to make a program for moving the robot forward from the initial position at the start of the simulation, in the center of the room.\n",
    "\n",
    "The robot should stop after traveling a distance equal to the size of the tile, which is 2 m.\n",
    "\n",
    "According to the specifications, the *diameter* of the wheels of the Pioneer 3DX robot is 195.3 mm."
   ]
  },
  {
   "cell_type": "markdown",
   "metadata": {},
   "source": [
    "### 1. Starting position\n",
    "For a better visual understanding of the task, it is recommended that the robot starts at the center of the room. \n",
    "\n",
    "You can easily relocate the robot there by simply restarting the simulation.\n",
    "\n",
    "### 2. Initialization\n",
    "After restarting the simulation, the robot needs to be initialized."
   ]
  },
  {
   "cell_type": "code",
   "execution_count": null,
   "metadata": {
    "collapsed": false
   },
   "outputs": [],
   "source": [
    "import packages.initialization\n",
    "import pioneer3dx as p3dx\n",
    "p3dx.init()"
   ]
  },
  {
   "cell_type": "markdown",
   "metadata": {},
   "source": [
    "### 3. Motion code\n",
    "\n",
    "In the following program template, you must fill the gaps with the appropriate code.\n",
    "\n",
    "The idea is to compute the turned angle of one of the encoders (no matter which one) as the difference between the current and initial values, then compute the traveled distance. The robot will move as long as this distance is lower than the target distance, then it will stop."
   ]
  },
  {
   "cell_type": "code",
   "execution_count": null,
   "metadata": {
    "collapsed": false
   },
   "outputs": [],
   "source": [
    "target = ...      # target distance\n",
    "r = ...           # wheel radius\n",
    "initialEncoder = ...\n",
    "distance = 0\n",
    "while distance < target:\n",
    "    p3dx.move(2.5,2.5)\n",
    "    angle = ...\n",
    "    distance = ...\n",
    "p3dx.move(0,0)"
   ]
  },
  {
   "cell_type": "markdown",
   "metadata": {},
   "source": [
    "### Solution"
   ]
  },
  {
   "cell_type": "code",
   "execution_count": null,
   "metadata": {
    "collapsed": false
   },
   "outputs": [],
   "source": [
    "target = 2.0      # target distance\n",
    "r = 0.1953 / 2    # wheel radius\n",
    "initialEncoder = p3dx.rightEncoder\n",
    "distance = 0\n",
    "while distance < target:\n",
    "    p3dx.move(2.5,2.5)\n",
    "    angle = p3dx.rightEncoder - initialEncoder\n",
    "    distance = angle * r\n",
    "p3dx.move(0,0)"
   ]
  },
  {
   "cell_type": "markdown",
   "metadata": {
    "collapsed": true
   },
   "source": [
    "---\n",
    "\n",
    "### Try-a-Bot: an open source guide for robot programming\n",
    "\n",
    "Developed by:\n",
    "[![Robotic Intelligence Lab @ UJI](../img/logo/robinlab.png \"Robotic Intelligence Lab @ UJI\")](http://robinlab.uji.es)\n",
    "\n",
    "Sponsored by:\n",
    "<table>\n",
    "<tr>\n",
    "<td style=\"border:1px solid #ffffff ;\">[![IEEE Robotics and Automation Society](../img/logo/ras.png \"IEEE Robotics and Automation Society\")](http://www.ieee-ras.org)</td>\n",
    "<td style=\"border:1px solid #ffffff ;\">[![Cyberbotics](../img/logo/cyberbotics.png \"Cyberbotics\")](http://www.cyberbotics.com)</td>\n",
    "<td style=\"border:1px solid #ffffff ;\">[![The Construct](../img/logo/theconstruct.png \"The Construct\")](http://www.theconstructsim.com)</td>\n",
    "</tr>\n",
    "</table>\n",
    "\n",
    "Follow us:\n",
    "<table>\n",
    "<tr>\n",
    "<td style=\"border:1px solid #ffffff ;\">[![Facebook](../img/logo/facebook.png \"Facebook\")](https://www.facebook.com/RobotProgrammingNetwork)</td>\n",
    "<td style=\"border:1px solid #ffffff ;\">[![YouTube](../img/logo/youtube.png \"YouTube\")](https://www.youtube.com/user/robotprogrammingnet)</td>\n",
    "</tr>\n",
    "</table>"
   ]
  }
 ],
 "metadata": {
  "kernelspec": {
   "display_name": "Python 2",
   "language": "python",
   "name": "python2"
  },
  "language_info": {
   "codemirror_mode": {
    "name": "ipython",
    "version": 2
   },
   "file_extension": ".py",
   "mimetype": "text/x-python",
   "name": "python",
   "nbconvert_exporter": "python",
   "pygments_lexer": "ipython2",
   "version": "2.7.11"
  }
 },
 "nbformat": 4,
 "nbformat_minor": 0
}
